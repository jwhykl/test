{
 "cells": [
  {
   "cell_type": "markdown",
   "id": "a1c96b43",
   "metadata": {},
   "source": [
    "Q1 - Write a program which takes following two lists as input\n",
    "A = [“Ali”,”Hamza”,”Usman”]\n",
    "B = [ [ 23, 29, 32], [ 5.8, 5.9, 6.1] ...]\n",
    "\n",
    "and gives following output:\n",
    "\n",
    "Ali is 23 years old and his height is 5.8ft\n",
    "Hamza is 29 years old and his height is 5.9ft.\n",
    "\n",
    "Note : list “A” contains names of person whereas list “B” contains age and height of persons respectively. \n"
   ]
  },
  {
   "cell_type": "code",
   "execution_count": 1,
   "id": "97743c82",
   "metadata": {},
   "outputs": [
    {
     "name": "stdout",
     "output_type": "stream",
     "text": [
      "Ali is 23 yearss old and his height is 5.8 ft\n",
      "Hamza is 29 yearss old and his height is 5.9 ft\n",
      "Usman is 32 yearss old and his height is 6.1 ft\n"
     ]
    }
   ],
   "source": [
    "A = [\"Ali\",\"Hamza\",\"Usman\"]\n",
    "B = [ [ 23, 29, 32], [ 5.8, 5.9, 6.1], ...]\n",
    "\n",
    "def print_lists(A, B):\n",
    "    age = B[0]\n",
    "    height = B[1]\n",
    "    for name, age_, height_ in zip(A, age, height):\n",
    "        print(f\"{name} is {age_} yearss old and his height is {height_} ft\")\n",
    "print_lists(A, B)"
   ]
  },
  {
   "cell_type": "markdown",
   "id": "e96d0d33",
   "metadata": {},
   "source": [
    "Q2- List a contains 100 words, many of them are duplicate, write a two line code which removes duplicates preserving the order of list. "
   ]
  },
  {
   "cell_type": "code",
   "execution_count": 2,
   "id": "739954b8",
   "metadata": {},
   "outputs": [
    {
     "data": {
      "text/plain": [
       "['35',\n",
       " '43',\n",
       " '32',\n",
       " '2',\n",
       " '49',\n",
       " '48',\n",
       " '30',\n",
       " '37',\n",
       " '31',\n",
       " '10',\n",
       " '6',\n",
       " '41',\n",
       " '25',\n",
       " '5',\n",
       " '14',\n",
       " '3',\n",
       " '26',\n",
       " '8',\n",
       " '28',\n",
       " '39',\n",
       " '27',\n",
       " '9',\n",
       " '17',\n",
       " '38',\n",
       " '42',\n",
       " '34',\n",
       " '19',\n",
       " '22',\n",
       " '45',\n",
       " '7',\n",
       " '46',\n",
       " '50',\n",
       " '23',\n",
       " '24',\n",
       " '40',\n",
       " '21',\n",
       " '1',\n",
       " '47',\n",
       " '12',\n",
       " '15',\n",
       " '18',\n",
       " '36',\n",
       " '33',\n",
       " '16',\n",
       " '29',\n",
       " '11',\n",
       " '13']"
      ]
     },
     "execution_count": 2,
     "metadata": {},
     "output_type": "execute_result"
    }
   ],
   "source": [
    "import random\n",
    "randstr = [str(random.randint(0,50)) for _ in range(100)]\n",
    "\n",
    "randstr_nodup = []\n",
    "[randstr_nodup.append(x) for x in randstr if x not in randstr_nodup]\n",
    "randstr_nodup"
   ]
  },
  {
   "cell_type": "markdown",
   "id": "adc4f33b",
   "metadata": {},
   "source": [
    "Q3- Assuming that we have some email addresses in the \"username@companyname.com\" format, please write program that;\n",
    "\n",
    "•\tPrint the “user name” of a given email address. \n",
    "•\tPrints the “companyname” of a given email address\n"
   ]
  },
  {
   "cell_type": "code",
   "execution_count": 3,
   "id": "d9531b97",
   "metadata": {},
   "outputs": [
    {
     "name": "stdout",
     "output_type": "stream",
     "text": [
      "Username : xxxxx \n",
      "Company name : coxoxoxoname \n"
     ]
    }
   ],
   "source": [
    "def print_username_address(email):\n",
    "    username, fulldomain = email.split(\"@\")\n",
    "    companyname = fulldomain.split(\".\")[0]\n",
    "    print (f\"Username : {username} \\nCompany name : {companyname} \")\n",
    "print_username_address(\"xxxxx@coxoxoxoname.com\")"
   ]
  },
  {
   "cell_type": "markdown",
   "id": "47a06228",
   "metadata": {},
   "source": [
    "Q4 - Given two given lists [1,3,6,78,35,55] and [12,24,35,55,88,78,155], write a program to make a list whose elements are intersection of the above given lists."
   ]
  },
  {
   "cell_type": "code",
   "execution_count": 4,
   "id": "3a8c836a",
   "metadata": {},
   "outputs": [
    {
     "data": {
      "text/plain": [
       "[78, 35, 55]"
      ]
     },
     "execution_count": 4,
     "metadata": {},
     "output_type": "execute_result"
    }
   ],
   "source": [
    "A = [1,3,6,78,35,55] \n",
    "B = [12,24,35,55,88,78,155]\n",
    "\n",
    "intersection = [x for x in A if x in B]\n",
    "intersection"
   ]
  },
  {
   "cell_type": "markdown",
   "id": "27f0f709",
   "metadata": {},
   "source": [
    "Q5- Write a recursive function which calculates 1+2+3+...+10\n",
    "\n",
    "\te.g. sum_recursive (start = 1 , end = 10)\n",
    "\t       output = 55\n",
    "\n"
   ]
  },
  {
   "cell_type": "code",
   "execution_count": 5,
   "id": "eac5adb6",
   "metadata": {},
   "outputs": [
    {
     "data": {
      "text/plain": [
       "55"
      ]
     },
     "execution_count": 5,
     "metadata": {},
     "output_type": "execute_result"
    }
   ],
   "source": [
    "def sum_recursive (start=1, end=10):\n",
    "    if start <= end:\n",
    "        return start + sum_recursive(start=start+1, end=end)\n",
    "    elif start > end:\n",
    "        return 0\n",
    "    \n",
    "sum_recursive (start=1, end=10)    "
   ]
  },
  {
   "cell_type": "code",
   "execution_count": null,
   "id": "d67abc27",
   "metadata": {},
   "outputs": [],
   "source": []
  }
 ],
 "metadata": {
  "kernelspec": {
   "display_name": "Python 3 (ipykernel)",
   "language": "python",
   "name": "python3"
  },
  "language_info": {
   "codemirror_mode": {
    "name": "ipython",
    "version": 3
   },
   "file_extension": ".py",
   "mimetype": "text/x-python",
   "name": "python",
   "nbconvert_exporter": "python",
   "pygments_lexer": "ipython3",
   "version": "3.8.5"
  }
 },
 "nbformat": 4,
 "nbformat_minor": 5
}
